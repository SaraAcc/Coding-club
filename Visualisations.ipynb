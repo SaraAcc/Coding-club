{
 "cells": [
  {
   "cell_type": "markdown",
   "metadata": {},
   "source": [
    "# Visualisations"
   ]
  },
  {
   "cell_type": "markdown",
   "metadata": {},
   "source": [
    "On va apprendre à utiliser Jupyter notebook pour faire de la programmation en Python, mais aussi pour faire des analyses de données et des visualisations.  \n",
    "Les analyses de données et les visualisations sont des outils très utiles pour comprendre les données et pour communiquer des résultats.\n",
    "Le job qui est très en vogue en ce moment est le job de *Data Scientist*, en français *analyseuse de données*. Beaucoup d'entreprises ont besoin d'ingénieures qui pourront analyser les données de leurs clients. Un exemple serait, combien de personnes achètent quatre pots d'Ovomaltine par mois. \n",
    "Ces analyses pourraient permettre à l'entreprise de chocolat de produite plus ou moins de pots d'Ovomaltine selon la demande. \n",
    "Alors aujourd'hui, on va découvrir ce job si prisé !\n"
   ]
  },
  {
   "cell_type": "markdown",
   "metadata": {},
   "source": [
    "**Tu peux ignorer cette première cellule et aller directement à la partie *Tableaux**"
   ]
  },
  {
   "cell_type": "code",
   "execution_count": 84,
   "metadata": {},
   "outputs": [],
   "source": [
    "import numpy as np\n",
    "import pandas as pd\n",
    "import matplotlib.pyplot as plt\n",
    "import seaborn as sns\n",
    "\n",
    "def creer_tableau(nb_lignes, nb_colonnes, nom_lignes, nom_colonnes):\n",
    "    df = pd.DataFrame(np.random.randint(0, 100, size=(nb_lignes, nb_colonnes)), columns=nom_colonnes, index=nom_lignes) \n",
    "    return df\n",
    "\n",
    "def changer_valeur(nom_tableau, nom_colonne, nom_ligne, valeur):\n",
    "    nom_tableau.loc[nom_ligne, nom_colonne] = valeur\n",
    "    return nom_tableau\n",
    "\n",
    "def combien_de_fois(nom_tableau, nom_colonne, valeur):\n",
    "    nb_de_fois =  nom_tableau[nom_colonne].value_counts()[valeur]\n",
    "    personnes = nom_tableau[nom_tableau[nom_colonne] == valeur]\n",
    "    if nb_de_fois == 1:\n",
    "        print(f\"Il y a {nb_de_fois} personne qui a {nom_colonne} équivalent à {valeur}. Il s'agit de {personnes.index[0]}\")\n",
    "    else:\n",
    "        personnes = personnes.index.values\n",
    "        personnes = \", \".join(personnes)\n",
    "        print(f\"Il y a {nb_de_fois} personnes qui ont leur {nom_colonne} équivalent à {valeur}. Il s'agit de {personnes}\")\n",
    "\n",
    "def afficher_diagramme_batons(nom_tableau, nom_colonne):\n",
    "    plt.figure(figsize=(8, 4))\n",
    "    ax = sns.countplot(x=nom_tableau[nom_colonne])\n",
    "    plt.title(f'Diagramme à barres de la colonne {nom_colonne}')\n",
    "    plt.xlabel(nom_colonne)\n",
    "    plt.ylabel('Nombre d\\'occurrences')\n",
    "    ax.yaxis.set_major_locator(plt.MaxNLocator(integer=True))\n",
    "    plt.show()\n",
    "\n",
    "def afficher_diagramme_circulaire(nom_tableau, nom_colonne):\n",
    "    plt.figure(figsize=(6, 6))\n",
    "    nom_tableau[nom_colonne].value_counts().plot.pie(autopct='%1.1f%%')\n",
    "    plt.title(f'Diagramme circulaire de la colonne {nom_colonne}')\n",
    "    plt.ylabel('')\n",
    "    plt.show()\n",
    "        \n"
   ]
  },
  {
   "cell_type": "markdown",
   "metadata": {},
   "source": [
    "## Les tableaux"
   ]
  },
  {
   "cell_type": "markdown",
   "metadata": {},
   "source": [
    "Pour pouvoir faire des analyses, il nous faut des tableaux. Mais pourquoi ? Grâce à des tableaux, on pourra faire nos analyses plus facilement et on pour\n",
    "Pour créer un tableau, il faudra que tu décides du nombre de lignes et de colonnes que tu aimerais avoir. Lorsque tu auras fait ce choix, tu devras décider du nom de chaque ligne et de chaque colonne."
   ]
  },
  {
   "cell_type": "code",
   "execution_count": 45,
   "metadata": {},
   "outputs": [],
   "source": [
    "# J'aimerai que mon tableau ait 3 lignes et 3 colonnes.\n",
    "# Les 3 colonnes correspondront aux types : Age, Plat préféré, Activité préférée\n",
    "# Les 3 lignes correspondront aux personnes : Alice, Sophie, Clara\n",
    "\n",
    "patapouf = creer_tableau(\n",
    "    nb_lignes = 3, \n",
    "    nb_colonnes = 3, \n",
    "    nom_lignes = ['Alice', 'Sophie', 'Clara'], \n",
    "    nom_colonnes = ['Age', 'Plat préféré', 'Activité préférée'])\n"
   ]
  },
  {
   "cell_type": "markdown",
   "metadata": {},
   "source": [
    "Maintenant qu'on a créé notre tableau, il faudrait qu'on puisse le voir ! Pour visualiser un tableau, il faut écrire   \n",
    "`display(nom de ton tableau)`  \n",
    "Comme tu remarques en haut, on a nommé notre tableau `patapouf`. Lorsque tu crées des tableaux, tu peux les nommer comme tu veux ! "
   ]
  },
  {
   "cell_type": "code",
   "execution_count": 46,
   "metadata": {},
   "outputs": [
    {
     "data": {
      "text/html": [
       "<div>\n",
       "<style scoped>\n",
       "    .dataframe tbody tr th:only-of-type {\n",
       "        vertical-align: middle;\n",
       "    }\n",
       "\n",
       "    .dataframe tbody tr th {\n",
       "        vertical-align: top;\n",
       "    }\n",
       "\n",
       "    .dataframe thead th {\n",
       "        text-align: right;\n",
       "    }\n",
       "</style>\n",
       "<table border=\"1\" class=\"dataframe\">\n",
       "  <thead>\n",
       "    <tr style=\"text-align: right;\">\n",
       "      <th></th>\n",
       "      <th>Age</th>\n",
       "      <th>Plat préféré</th>\n",
       "      <th>Activité préférée</th>\n",
       "    </tr>\n",
       "  </thead>\n",
       "  <tbody>\n",
       "    <tr>\n",
       "      <th>Alice</th>\n",
       "      <td>54</td>\n",
       "      <td>19</td>\n",
       "      <td>10</td>\n",
       "    </tr>\n",
       "    <tr>\n",
       "      <th>Sophie</th>\n",
       "      <td>70</td>\n",
       "      <td>90</td>\n",
       "      <td>77</td>\n",
       "    </tr>\n",
       "    <tr>\n",
       "      <th>Clara</th>\n",
       "      <td>40</td>\n",
       "      <td>51</td>\n",
       "      <td>96</td>\n",
       "    </tr>\n",
       "  </tbody>\n",
       "</table>\n",
       "</div>"
      ],
      "text/plain": [
       "        Age  Plat préféré  Activité préférée\n",
       "Alice    54            19                 10\n",
       "Sophie   70            90                 77\n",
       "Clara    40            51                 96"
      ]
     },
     "metadata": {},
     "output_type": "display_data"
    }
   ],
   "source": [
    "# Afficher le tableau\n",
    "display(patapouf)"
   ]
  },
  {
   "cell_type": "markdown",
   "metadata": {},
   "source": [
    "Maintenant qu'on a créé notre tableau, tu remarques que les valeurs à l'intérieur du tableau sont bizarres. Comment est ce que le plat préféré d'Alice est un chiffre ? Ca n'a aucun sens ! Il faudra changer les valeurs à l'intérieur du tableau !   \n",
    "Pour changer le plat préféré d'Alice, on écrit    \n",
    "`changer_valeur(\n",
    "    nom_tableau = patapouf, \n",
    "    nom_colonne = 'Plat préféré', \n",
    "    nom_ligne = 'Alice', \n",
    "    valeur = 'Pizza')`  \n",
    "Maintenant à toi de jouer ! Change les valeurs à l'intérieur du tableau comme bon te semble.\n"
   ]
  },
  {
   "cell_type": "code",
   "execution_count": 80,
   "metadata": {},
   "outputs": [
    {
     "data": {
      "text/html": [
       "<div>\n",
       "<style scoped>\n",
       "    .dataframe tbody tr th:only-of-type {\n",
       "        vertical-align: middle;\n",
       "    }\n",
       "\n",
       "    .dataframe tbody tr th {\n",
       "        vertical-align: top;\n",
       "    }\n",
       "\n",
       "    .dataframe thead th {\n",
       "        text-align: right;\n",
       "    }\n",
       "</style>\n",
       "<table border=\"1\" class=\"dataframe\">\n",
       "  <thead>\n",
       "    <tr style=\"text-align: right;\">\n",
       "      <th></th>\n",
       "      <th>Age</th>\n",
       "      <th>Plat préféré</th>\n",
       "      <th>Activité préférée</th>\n",
       "    </tr>\n",
       "  </thead>\n",
       "  <tbody>\n",
       "    <tr>\n",
       "      <th>Alice</th>\n",
       "      <td>10</td>\n",
       "      <td>Pizza</td>\n",
       "      <td>Dormir</td>\n",
       "    </tr>\n",
       "    <tr>\n",
       "      <th>Sophie</th>\n",
       "      <td>10</td>\n",
       "      <td>Pizza</td>\n",
       "      <td>Dormir</td>\n",
       "    </tr>\n",
       "    <tr>\n",
       "      <th>Clara</th>\n",
       "      <td>15</td>\n",
       "      <td>Lasagnes</td>\n",
       "      <td>Dormir</td>\n",
       "    </tr>\n",
       "  </tbody>\n",
       "</table>\n",
       "</div>"
      ],
      "text/plain": [
       "        Age Plat préféré Activité préférée\n",
       "Alice    10        Pizza            Dormir\n",
       "Sophie   10        Pizza            Dormir\n",
       "Clara    15     Lasagnes            Dormir"
      ]
     },
     "execution_count": 80,
     "metadata": {},
     "output_type": "execute_result"
    }
   ],
   "source": [
    "changer_valeur(\n",
    "    nom_tableau = patapouf, \n",
    "    nom_colonne = 'Plat préféré', \n",
    "    nom_ligne = 'Alice', \n",
    "    valeur = 'Pizza')\n",
    "\n",
    "# Change les autres valeurs du tableau pour que les informations soient correctes\n",
    "\n",
    "changer_valeur(patapouf, 'Plat préféré', 'Sophie', 'Pizza')\n",
    "changer_valeur(patapouf, 'Plat préféré', 'Clara', 'Lasagnes')\n",
    "changer_valeur(patapouf, 'Activité préférée', 'Alice', 'Dormir')\n",
    "changer_valeur(patapouf, 'Activité préférée', 'Sophie', 'Dormir')\n",
    "changer_valeur(patapouf, 'Activité préférée', 'Clara', 'Dormir')\n",
    "changer_valeur(patapouf, 'Age', 'Alice', 10)\n",
    "changer_valeur(patapouf, 'Age', 'Sophie', 10)\n",
    "changer_valeur(patapouf, 'Age', 'Clara', 15)\n"
   ]
  },
  {
   "cell_type": "markdown",
   "metadata": {},
   "source": [
    "Maintenant que les valeurs sont les bonnes, voyons voir comment est ce qu'on peut analyser les données de ce tableau. Un exemple de données qu'on pourrait chercher est de savoir combien de personnes aiment les pizzas. Pour connaître cette information, on écrit  \n",
    "`combien_de_fois(\n",
    "    nom_tableau = patapouf, \n",
    "    nom_colonne = 'Plat préféré', \n",
    "    valeur = 'Pizza')`"
   ]
  },
  {
   "cell_type": "code",
   "execution_count": 66,
   "metadata": {},
   "outputs": [
    {
     "name": "stdout",
     "output_type": "stream",
     "text": [
      "Il y a 2 personnes qui ont leur Plat préféré équivalent à Pizza. Il s'agit de Alice, Sophie\n"
     ]
    }
   ],
   "source": [
    "combien_de_fois(\n",
    "    nom_tableau = patapouf, \n",
    "    nom_colonne = 'Plat préféré', \n",
    "    valeur = 'Pizza')\n",
    "\n",
    "# Fais tes propres analyses et recherche s'il y a d'autres points communs entre les personnes\n",
    "\n"
   ]
  },
  {
   "cell_type": "markdown",
   "metadata": {},
   "source": [
    "Parfait ! Maintenant, il serait temps de visualiser grâce à des diagrammes.\n",
    "## Qu'est-ce qu'un Diagramme ?\n",
    "Un diagramme est une façon visuelle de représenter des informations pour les rendre plus faciles à comprendre. C'est comme une histoire que l'on raconte en utilisant des images plutôt que des mots. Les diagrammes nous aident à voir des modèles, à comparer des choses, et à comprendre des données d'une manière amusante et colorée.\n",
    "\n",
    "### Diagramme à Bâtons :\n",
    "Un diagramme à bâtons est comme une grande barre de chocolat que l'on divise en morceaux. Chaque morceau représente quelque chose, comme le nombre de personnes qui aiment différentes pizzas. Les bâtons montrent combien de fois quelque chose se produit. Par exemple, si on a un bâton pour la pizza au pepperoni et un autre pour la pizza margherita, on peut facilement voir laquelle est la préférée en regardant le bâton le plus grand.\n",
    "\n"
   ]
  },
  {
   "cell_type": "code",
   "execution_count": 89,
   "metadata": {},
   "outputs": [
    {
     "data": {
      "image/png": "[encoded data removed]",
      "text/plain": [
       "<Figure size 800x400 with 1 Axes>"
      ]
     },
     "metadata": {},
     "output_type": "display_data"
    }
   ],
   "source": [
    "afficher_diagramme_batons(\n",
    "    nom_tableau = patapouf, \n",
    "    nom_colonne = 'Age'\n",
    "    )"
   ]
  },
  {
   "cell_type": "markdown",
   "metadata": {},
   "source": [
    "### Diagramme Circulaire :\n",
    "Un diagramme circulaire ressemble à une délicieuse tarte découpée en parts. Chaque part représente une partie d'un tout. Par exemple, si on veut montrer combien de temps les gens passent à dormir, manger, ou jouer, on peut utiliser un diagramme circulaire. La taille de chaque part nous montre quelle activité prend le plus de temps. C'est comme partager une tarte pour que chacun puisse voir à quel point chaque activité est importante."
   ]
  },
  {
   "cell_type": "code",
   "execution_count": 90,
   "metadata": {},
   "outputs": [
    {
     "data": {
      "image/png": "[encoded data removed]",
      "text/plain": [
       "<Figure size 600x600 with 1 Axes>"
      ]
     },
     "metadata": {},
     "output_type": "display_data"
    }
   ],
   "source": [
    "afficher_diagramme_circulaire(\n",
    "    nom_tableau = patapouf, \n",
    "    nom_colonne = 'Age')"
   ]
  },
  {
   "cell_type": "markdown",
   "metadata": {},
   "source": [
    "Tu peux t'amuser à afficher les types de diagrammes qui t'intéressent. N'oublie pas que lorsque tu veux créer une visualisation, il faut toujours donner le nom de ton tableau, pour le programme comprenne d'où est ce qu'il doit chercher ses informations."
   ]
  },
  {
   "cell_type": "code",
   "execution_count": null,
   "metadata": {},
   "outputs": [],
   "source": [
    "# Amuse toi à faire d'autres visualisations\n",
    "\n"
   ]
  },
  {
   "cell_type": "markdown",
   "metadata": {},
   "source": [
    "## Maintenant, à toi de jouer ! \n",
    "Tu es à présent une \"analyseuse de données\". Discute avec les filles dans la classe pour créer ton propre tableau. Inspire-toi de ce qu'on a fait plus haut pour faire ton analyse.   \n",
    "Les étapes à suivre sont les suivantes:  \n",
    "1) Crée ton tableau avec le nom des filles autour de toi. Plus tu as de noms, mieux c'est ! Il faudra aussi que tu décides quelles informations tu aimerais leur demander. Par exemple, quel est leur animal préféré. "
   ]
  },
  {
   "cell_type": "code",
   "execution_count": 91,
   "metadata": {},
   "outputs": [],
   "source": [
    "# Crée ton tableau ici et n'oublie pas de l'afficher\n",
    "\n"
   ]
  },
  {
   "cell_type": "markdown",
   "metadata": {},
   "source": [
    "2) Maintenant, pose leur les questions chacune à la fois, et modifie les valeurs à l'intérieur du tableau."
   ]
  },
  {
   "cell_type": "code",
   "execution_count": null,
   "metadata": {},
   "outputs": [],
   "source": [
    "# Modifie les valeurs du tableau en fonction des réponses des filles\n",
    "\n",
    "\n"
   ]
  },
  {
   "cell_type": "markdown",
   "metadata": {},
   "source": [
    "3) A présent, tu peux t'amuser à faire les visualisations qui te plaisent !"
   ]
  },
  {
   "cell_type": "code",
   "execution_count": 92,
   "metadata": {},
   "outputs": [],
   "source": [
    "# Affiche les données qui t'intéressent\n",
    "\n"
   ]
  },
  {
   "cell_type": "markdown",
   "metadata": {},
   "source": [
    "Tu peux à présent faire des conclusions sur le groupe de filles avec toi en classe. Par exemple, tu remarques que la plupart des filles préfèrent l'hiver à l'été ou alors qu'il n'y a pas beaucoup de filles qui portent des lunettes. A toi de faire des conclusions selon tes résultats !"
   ]
  },
  {
   "cell_type": "markdown",
   "metadata": {},
   "source": [
    "Bravo à toi ! Tu es à présent une vraie *Data scientist*"
   ]
  }
 ],
 "metadata": {
  "kernelspec": {
   "display_name": "base",
   "language": "python",
   "name": "python3"
  },
  "language_info": {
   "codemirror_mode": {
    "name": "ipython",
    "version": 3
   },
   "file_extension": ".py",
   "mimetype": "text/x-python",
   "name": "python",
   "nbconvert_exporter": "python",
   "pygments_lexer": "ipython3",
   "version": "3.11.5"
  }
 },
 "nbformat": 4,
 "nbformat_minor": 2
}
